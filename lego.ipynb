{
 "cells": [
  {
   "cell_type": "code",
   "execution_count": null,
   "metadata": {},
   "outputs": [],
   "source": [
    "import sagemaker\n",
    "from sagemaker import get_execution_role\n",
    "\n",
    "role = get_execution_role()\n",
    "sess = sagemaker.Session()\n",
    "bucket=sess.default_bucket()\n",
    "prefix = 'lego-classification'"
   ]
  },
  {
   "cell_type": "code",
   "execution_count": null,
   "metadata": {},
   "outputs": [],
   "source": [
    "import boto3\n",
    "import json\n",
    "ssm = boto3.client('ssm')\n",
    "\n",
    "# expected format: {\"username\":\"xx\",\"key\":\"xxx\"}\n",
    "kaggleAPI = ssm.get_parameter(\n",
    "    Name='kaggleAPI'\n",
    ")\n",
    "kaggleAPI = json.loads(kaggleAPI.get(\"Parameter\")[\"Value\"])"
   ]
  },
  {
   "cell_type": "code",
   "execution_count": null,
   "metadata": {},
   "outputs": [],
   "source": [
    "!pip -q install kaggle"
   ]
  },
  {
   "cell_type": "code",
   "execution_count": null,
   "metadata": {},
   "outputs": [],
   "source": [
    "from os import environ\n",
    "environ[\"KAGGLE_USERNAME\"] = kaggleAPI[\"username\"]\n",
    "environ[\"KAGGLE_KEY\"] = kaggleAPI[\"key\"]\n",
    "\n",
    "![ -z \"lego-brick-images.zip\" ] && rm lego-brick-images.zip\n",
    "\n",
    "!kaggle datasets download --force joosthazelzet/lego-brick-images\n",
    "!unzip -oq lego-brick-images.zip"
   ]
  },
  {
   "cell_type": "code",
   "execution_count": null,
   "metadata": {},
   "outputs": [],
   "source": [
    "!wget 'https://raw.githubusercontent.com/apache/incubator-mxnet/master/tools/im2rec.py'"
   ]
  },
  {
   "cell_type": "code",
   "execution_count": null,
   "metadata": {},
   "outputs": [],
   "source": [
    "training_image_folder = \"./LEGO brick images/train\"\n",
    "validation_image_folder = \"./LEGO brick images/valid\"\n",
    "\n",
    "# generate .rec database\n",
    "!python im2rec.py lego_train \"$training_image_folder\" --list --recursive --pass-through --pack-label \n",
    "!python im2rec.py lego_train \"$training_image_folder\" --recursive --pass-through --pack-label \n",
    "!python im2rec.py lego_test \"$validation_image_folder\" --list --recursive --pass-through --pack-label \n",
    "!python im2rec.py lego_test \"$validation_image_folder\" --recursive --pass-through --pack-label "
   ]
  },
  {
   "cell_type": "code",
   "execution_count": null,
   "metadata": {},
   "outputs": [],
   "source": [
    "# Upload the RecordIO files to train and validation channels\n",
    "train_channel = prefix + '/train'\n",
    "validation_channel = prefix + '/validation'\n",
    "\n",
    "sess.upload_data(path='lego_train.rec', bucket=bucket, key_prefix=train_channel)\n",
    "sess.upload_data(path='lego_test.rec', bucket=bucket, key_prefix=validation_channel)\n",
    "\n",
    "s3_train_data = 's3://{}/{}'.format(bucket, train_channel)\n",
    "s3_validation_data = 's3://{}/{}'.format(bucket, validation_channel)\n",
    "s3_output_location = 's3://{}/{}/output'.format(bucket, prefix)"
   ]
  },
  {
   "cell_type": "code",
   "execution_count": null,
   "metadata": {},
   "outputs": [],
   "source": [
    "train_data = sagemaker.session.s3_input(s3_train_data, distribution='FullyReplicated', \n",
    "                        content_type='application/x-recordio', s3_data_type='S3Prefix')\n",
    "validation_data = sagemaker.session.s3_input(s3_validation_data, distribution='FullyReplicated', \n",
    "                             content_type='application/x-recordio', s3_data_type='S3Prefix')"
   ]
  },
  {
   "cell_type": "code",
   "execution_count": null,
   "metadata": {},
   "outputs": [],
   "source": [
    "import os\n",
    "\n",
    "num_classes = len(os.listdir(training_image_folder))\n",
    "num_training_samples = sum([len(files) for r, d, files in os.walk(training_image_folder)])\n",
    "\n",
    "print(\"num_classes:{}\".format(num_classes))\n",
    "print(\"num_training_samples:{}\".format(num_training_samples))"
   ]
  },
  {
   "cell_type": "code",
   "execution_count": null,
   "metadata": {},
   "outputs": [],
   "source": [
    "mini_batch_size_min = 16\n",
    "mini_batch_size_max = 64\n",
    "learning_rate_min = \"0.0001\"\n",
    "learning_rate_max = \"1.0\"\n",
    "optimizers = ['sgd', 'adam', 'rmsprop', 'nag']"
   ]
  },
  {
   "cell_type": "code",
   "execution_count": null,
   "metadata": {},
   "outputs": [],
   "source": [
    "from sagemaker.amazon.amazon_estimator import get_image_uri\n",
    "from sagemaker.tuner import IntegerParameter, CategoricalParameter, ContinuousParameter, HyperparameterTuner \n",
    "from datetime import date\n",
    "\n",
    "training_image = get_image_uri(sess.boto_region_name, 'image-classification', repo_version=\"latest\")\n",
    "# training_image = get_image_uri(sess.boto_region_name, 'object-detection', repo_version=\"latest\")\n",
    "\n",
    "ic = sagemaker.estimator.Estimator(\n",
    "    training_image,\n",
    "    role, \n",
    "    train_instance_count=1, \n",
    "    train_instance_type='ml.p3.8xlarge', \n",
    "    input_mode= 'File',\n",
    "    output_path=s3_output_location,\n",
    "    sagemaker_session=sess,\n",
    "    base_job_name= 'lego-classification'\n",
    ")\n",
    "\n",
    "layers=34 # [18, 34, 50, 101, 152, 200, 20, 32, 44, 56, 110]\n",
    "epochs=1000\n",
    "\n",
    "ic.set_hyperparameters(\n",
    "    num_layers=layers,\n",
    "    num_classes=num_classes,\n",
    "    num_training_samples=num_training_samples,\n",
    "    image_shape = \"3,200,200\",\n",
    "# mini_batch_size=4,\n",
    "    epochs=epochs,\n",
    "# learning_rate=0.001,\n",
    "     top_k=5,\n",
    "     precision_dtype='float32',\n",
    "     use_pretrained_model=0\n",
    ")\n",
    "\n",
    "# maximum number of training jobs\n",
    "hpo_max_number_of_training_jobs = 50\n",
    "# maximum number of parallel training jobs\n",
    "hpo_max_number_of_parallel_jobs = 2\n",
    "hpo_objective_metric_name = 'validation:accuracy'\n",
    "\n",
    "hpo_hyperparameter_ranges = \\\n",
    "{\n",
    "    'learning_rate': ContinuousParameter(learning_rate_min, learning_rate_max),\n",
    "    'mini_batch_size': IntegerParameter(mini_batch_size_min, mini_batch_size_max),\n",
    "    'optimizer': CategoricalParameter(optimizers)\n",
    "}\n",
    "job_name = \"lego-classification-{}\".format(date.today())\n",
    "\n",
    "tuner_es = HyperparameterTuner(ic, \n",
    "                               hpo_objective_metric_name, \n",
    "                               hpo_hyperparameter_ranges,\n",
    "                               objective_type='Maximize', \n",
    "                               max_jobs=hpo_max_number_of_training_jobs, \n",
    "                               max_parallel_jobs=hpo_max_number_of_parallel_jobs, \n",
    "                               early_stopping_type='Auto',\n",
    "                               strategy=\"Random\"\n",
    "                              )\n"
   ]
  },
  {
   "cell_type": "code",
   "execution_count": null,
   "metadata": {},
   "outputs": [],
   "source": [
    "data_channels = {'train': train_data, 'validation': validation_data}\n",
    "\n",
    "# run the hyperparameter tuning job\n",
    "tuner_es.fit(data_channels, job_name=job_name, include_cls_metadata=False)\n",
    "\n",
    "print('Hyperparameter Tuning job name: {}'.format(job_name))"
   ]
  },
  {
   "cell_type": "code",
   "execution_count": null,
   "metadata": {},
   "outputs": [],
   "source": [
    "tuner_es.wait()"
   ]
  },
  {
   "cell_type": "code",
   "execution_count": null,
   "metadata": {},
   "outputs": [],
   "source": [
    "from sagemaker import HyperparameterTuningJobAnalytics\n",
    "tuner_metrics_es = HyperparameterTuningJobAnalytics(job_name)\n",
    "tuner_metrics_es.dataframe().sort_values(['FinalObjectiveValue'], ascending=False).head(5)"
   ]
  },
  {
   "cell_type": "code",
   "execution_count": null,
   "metadata": {},
   "outputs": [],
   "source": [
    "best_training_job_name = tuner_es.best_training_job()"
   ]
  },
  {
   "cell_type": "code",
   "execution_count": null,
   "metadata": {},
   "outputs": [],
   "source": [
    "best_training_job_name"
   ]
  },
  {
   "cell_type": "code",
   "execution_count": null,
   "metadata": {},
   "outputs": [],
   "source": [
    "endpoint_name = sess.endpoint_from_job(\n",
    "    job_name=best_training_job_name,\n",
    "    initial_instance_count=1,\n",
    "    instance_type='ml.m4.xlarge',\n",
    "    deployment_image=training_image,\n",
    "    role=role\n",
    ")"
   ]
  },
  {
   "cell_type": "code",
   "execution_count": null,
   "metadata": {},
   "outputs": [],
   "source": [
    "# attached_estimator = sagemaker.estimator.Estimator.attach(best_training_job_name)\n",
    "# attached_estimator.deploy(initial_instance_count = 1,\n",
    "#                           instance_type = 'ml.c5.4xlarge')\n",
    "predictor = sagemaker.predictor.RealTimePredictor(endpoint_name)"
   ]
  },
  {
   "cell_type": "code",
   "execution_count": null,
   "metadata": {},
   "outputs": [],
   "source": [
    "!mkdir test/\n",
    "!unzip -o data/lego_photos.zip -d test/"
   ]
  },
  {
   "cell_type": "code",
   "execution_count": null,
   "metadata": {},
   "outputs": [],
   "source": [
    "import os\n",
    "import json\n",
    "import numpy as np\n",
    "from IPython.display import display, Image\n",
    "names = [f for f in os.listdir('test')]\n",
    "for name in names:\n",
    "    print(\"image: {}\".format(name))\n",
    "    display(Image('test/' + name, width=100))\n",
    "    with open('test/' + name, 'rb') as f:\n",
    "        payload = f.read()\n",
    "        payload = bytearray(payload)\n",
    "    predictor.content_type = 'application/x-image'\n",
    "    result = json.loads(predictor.predict(payload))\n",
    "    index = np.argmax(result)\n",
    "    print(\"predicted index: {}\".format(index))\n"
   ]
  },
  {
   "cell_type": "code",
   "execution_count": null,
   "metadata": {},
   "outputs": [],
   "source": []
  },
  {
   "cell_type": "code",
   "execution_count": null,
   "metadata": {},
   "outputs": [],
   "source": []
  }
 ],
 "metadata": {
  "kernelspec": {
   "display_name": "conda_amazonei_mxnet_p36",
   "language": "python",
   "name": "conda_amazonei_mxnet_p36"
  },
  "language_info": {
   "codemirror_mode": {
    "name": "ipython",
    "version": 3
   },
   "file_extension": ".py",
   "mimetype": "text/x-python",
   "name": "python",
   "nbconvert_exporter": "python",
   "pygments_lexer": "ipython3",
   "version": "3.6.5"
  }
 },
 "nbformat": 4,
 "nbformat_minor": 4
}
